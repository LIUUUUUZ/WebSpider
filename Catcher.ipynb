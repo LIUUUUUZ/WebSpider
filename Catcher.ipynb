{
 "cells": [
  {
   "cell_type": "code",
   "execution_count": null,
   "metadata": {},
   "outputs": [],
   "source": []
  }
 ],
 "metadata": {
  "kernelspec": {
   "display_name": "base",
   "language": "python",
   "name": "python3"
  },
  "language_info": {
   "name": "python",
   "version": "3.9.13"
  },
  "orig_nbformat": 4,
  "vscode": {
   "interpreter": {
    "hash": "81f7aa4df1095037aea954a282433f67721e8846ea8c4404c95d45d22dba7409"
   }
  }
 },
 "nbformat": 4,
 "nbformat_minor": 2
}
