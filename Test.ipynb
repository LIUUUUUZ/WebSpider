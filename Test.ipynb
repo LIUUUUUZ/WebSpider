{
 "cells": [
  {
   "cell_type": "code",
   "execution_count": 3,
   "metadata": {},
   "outputs": [
    {
     "name": "stdout",
     "output_type": "stream",
     "text": [
      "Hello world!\n",
      "this is a test for jupyter\n",
      "kernel is too slow!\n"
     ]
    }
   ],
   "source": [
    "print(\"Hello world!\")\n",
    "print(\"this is a test for jupyter\")\n",
    "print(\"kernel is too slow!\")"
   ]
  }
 ],
 "metadata": {
  "kernelspec": {
   "display_name": "base",
   "language": "python",
   "name": "python3"
  },
  "language_info": {
   "codemirror_mode": {
    "name": "ipython",
    "version": 3
   },
   "file_extension": ".py",
   "mimetype": "text/x-python",
   "name": "python",
   "nbconvert_exporter": "python",
   "pygments_lexer": "ipython3",
   "version": "3.9.13"
  },
  "orig_nbformat": 4,
  "vscode": {
   "interpreter": {
    "hash": "81f7aa4df1095037aea954a282433f67721e8846ea8c4404c95d45d22dba7409"
   }
  }
 },
 "nbformat": 4,
 "nbformat_minor": 2
}
